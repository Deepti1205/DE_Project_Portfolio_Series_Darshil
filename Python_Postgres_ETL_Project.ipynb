{
 "cells": [
  {
   "cell_type": "code",
   "execution_count": 2,
   "id": "2784a2a4",
   "metadata": {},
   "outputs": [],
   "source": [
    "import psycopg2  #postgre sql package"
   ]
  },
  {
   "cell_type": "markdown",
   "id": "40503b97",
   "metadata": {},
   "source": [
    "# Create Connection to the database"
   ]
  },
  {
   "cell_type": "code",
   "execution_count": 6,
   "id": "e2374f8b",
   "metadata": {},
   "outputs": [],
   "source": [
    "try:\n",
    "    conn = psycopg2.connect(\"host=localhost dbname=postgres user=postgres password=deepti\")\n",
    "except psycopg2.Error as e:\n",
    "    print(\"Error could not make connection to Postgres\")\n",
    "    print(e)    "
   ]
  },
  {
   "cell_type": "markdown",
   "id": "8462d817",
   "metadata": {},
   "source": [
    "# Create a cursor to execute queries"
   ]
  },
  {
   "cell_type": "code",
   "execution_count": 7,
   "id": "b8ea73f5",
   "metadata": {},
   "outputs": [],
   "source": [
    "try:\n",
    "    cur = conn.cursor()\n",
    "except psycopg2.Error as e:\n",
    "    print(\"Error: could not get cursor to DB\")\n",
    "    print(e)"
   ]
  },
  {
   "cell_type": "markdown",
   "id": "c27a0ff3",
   "metadata": {},
   "source": [
    "# Setting auto commit as true\n",
    "\n",
    "This is an action of commit that is taken automatically without needing to call commit"
   ]
  },
  {
   "cell_type": "code",
   "execution_count": 8,
   "id": "5c0ee6b1",
   "metadata": {},
   "outputs": [],
   "source": [
    "conn.set_session(autocommit=True)"
   ]
  },
  {
   "cell_type": "markdown",
   "id": "c197abae",
   "metadata": {},
   "source": [
    "# Create DB using cursor"
   ]
  },
  {
   "cell_type": "code",
   "execution_count": 10,
   "id": "73707f7a",
   "metadata": {},
   "outputs": [],
   "source": [
    "try:\n",
    "    cur.execute(\"create database myfirstdb_via_py_code\")\n",
    "except pysopg2.Error as e:\n",
    "    print(e)"
   ]
  },
  {
   "cell_type": "markdown",
   "id": "ddb3afe0",
   "metadata": {},
   "source": [
    "# Creating new connection and cursor \n",
    "\n",
    "This needs to be done so that the above connection to default postgresDB to be closed and a new connection is created with newly created one"
   ]
  },
  {
   "cell_type": "code",
   "execution_count": 11,
   "id": "64951665",
   "metadata": {},
   "outputs": [],
   "source": [
    "try:\n",
    "    conn.close()\n",
    "except psycopg2.Error as e:\n",
    "    print(e)"
   ]
  },
  {
   "cell_type": "code",
   "execution_count": 13,
   "id": "77d6a9d0",
   "metadata": {},
   "outputs": [],
   "source": [
    "try:\n",
    "    conn = psycopg2.connect(\"host=localhost dbname=myfirstdb_via_py_code user=postgres password=deepti\")\n",
    "except psycopg2.Error as e:\n",
    "    print(f\"Error: Couldnot make connection with new DB\")\n",
    "    print(e)    "
   ]
  },
  {
   "cell_type": "code",
   "execution_count": 14,
   "id": "49ec5419",
   "metadata": {},
   "outputs": [
    {
     "name": "stdout",
     "output_type": "stream",
     "text": [
      "<connection object at 0x000001B8C098CBF0; dsn: 'user=postgres password=xxx dbname=myfirstdb_via_py_code host=localhost', closed: 0>\n"
     ]
    }
   ],
   "source": [
    "print(conn)"
   ]
  },
  {
   "cell_type": "code",
   "execution_count": 15,
   "id": "3f39cd25",
   "metadata": {},
   "outputs": [],
   "source": [
    "try:\n",
    "    cur = conn.cursor()\n",
    "except psycopg2.Error as e:\n",
    "    print(\"Error: Could not get cursor to the new DB\")\n",
    "    print(e)"
   ]
  },
  {
   "cell_type": "code",
   "execution_count": 16,
   "id": "2ee9511a",
   "metadata": {},
   "outputs": [],
   "source": [
    "conn.set_session(autocommit=True)"
   ]
  },
  {
   "cell_type": "markdown",
   "id": "8c4b62af",
   "metadata": {},
   "source": [
    "# Creating Table - Students\n",
    "\n",
    "student_id(PK), name, age, gender, subject, marks"
   ]
  },
  {
   "cell_type": "code",
   "execution_count": 19,
   "id": "f7694a43",
   "metadata": {},
   "outputs": [],
   "source": [
    "try:\n",
    "    cur.execute(\"CREATE TABLE IF NOT EXISTS students(\\\n",
    "                   student_id int,\\\n",
    "                   name varchar,\\\n",
    "                   age int,\\\n",
    "                   gender varchar,\\\n",
    "                   subject varchar,\\\n",
    "                   marks int);\")\n",
    "except psycopg2.Error as e:\n",
    "    print(\"Error: Issue creating table\")\n",
    "    print(e)"
   ]
  },
  {
   "cell_type": "markdown",
   "id": "da7e6c22",
   "metadata": {},
   "source": [
    "# Insert rows in Students table\n",
    "\n",
    "First row: 1,\"Raj\", 23, \"Male\", \"Python\", 85\n",
    "\n",
    "2nd row: 2, \"Priya\", 22, \"Female\", \"Java\", 86"
   ]
  },
  {
   "cell_type": "code",
   "execution_count": 20,
   "id": "e9b7149b",
   "metadata": {},
   "outputs": [],
   "source": [
    "try:\n",
    "    cur.execute(\"INSERT INTO students(student_id,name,age,gender,subject,marks)\\\n",
    "                  VALUES(%s,%s,%s,%s,%s,%s)\",\\\n",
    "                  (1,\"Raj\", 23, \"Male\", \"Python\", 85))\n",
    "except psycopg2.Error as e:\n",
    "    print(\"Error: Inserting rows\")\n",
    "    print(e)\n",
    "    \n",
    "try:\n",
    "    cur.execute(\"INSERT INTO students(student_id,name,age,gender,subject,marks)\\\n",
    "                  VALUES(%s,%s,%s,%s,%s,%s)\",\\\n",
    "                  (2, \"Priya\", 22, \"Female\", \"Java\", 86))\n",
    "except psycopg2.Error as e:\n",
    "    print(\"Error: Inserting rows\")\n",
    "    print(e)"
   ]
  },
  {
   "cell_type": "markdown",
   "id": "841b94df",
   "metadata": {},
   "source": [
    "# Validating data in table"
   ]
  },
  {
   "cell_type": "code",
   "execution_count": 21,
   "id": "e32567e7",
   "metadata": {},
   "outputs": [
    {
     "name": "stdout",
     "output_type": "stream",
     "text": [
      "(1, 'Raj', 23, 'Male', 'Python', 85)\n",
      "(2, 'Priya', 22, 'Female', 'Java', 86)\n"
     ]
    }
   ],
   "source": [
    "try:\n",
    "    cur.execute(\"SELECT * FROM students;\")\n",
    "except psycopg2.Error as e:\n",
    "    print(\"Error: Select query\")\n",
    "    print(e)\n",
    "    \n",
    "#To view data one by one\n",
    "row = cur.fetchone()\n",
    "while row:\n",
    "    print(row)\n",
    "    row = cur.fetchone()"
   ]
  },
  {
   "cell_type": "markdown",
   "id": "ecaf7627",
   "metadata": {},
   "source": [
    "# Finally close connection and cursor"
   ]
  },
  {
   "cell_type": "code",
   "execution_count": 22,
   "id": "6e1f2a8f",
   "metadata": {},
   "outputs": [],
   "source": [
    "cur.close()\n",
    "conn.close()"
   ]
  }
 ],
 "metadata": {
  "kernelspec": {
   "display_name": "Python 3 (ipykernel)",
   "language": "python",
   "name": "python3"
  },
  "language_info": {
   "codemirror_mode": {
    "name": "ipython",
    "version": 3
   },
   "file_extension": ".py",
   "mimetype": "text/x-python",
   "name": "python",
   "nbconvert_exporter": "python",
   "pygments_lexer": "ipython3",
   "version": "3.10.2"
  }
 },
 "nbformat": 4,
 "nbformat_minor": 5
}
